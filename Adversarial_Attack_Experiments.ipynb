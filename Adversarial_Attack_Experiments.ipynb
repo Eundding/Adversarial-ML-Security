{
  "nbformat": 4,
  "nbformat_minor": 0,
  "metadata": {
    "colab": {
      "provenance": [],
      "gpuType": "T4"
    },
    "kernelspec": {
      "name": "python3",
      "display_name": "Python 3"
    },
    "language_info": {
      "name": "python"
    },
    "accelerator": "GPU"
  },
  "cells": [
    {
      "cell_type": "code",
      "execution_count": null,
      "metadata": {
        "id": "37K0sZ7Ix862"
      },
      "outputs": [],
      "source": [
        "import torch\n",
        "import torch.nn as nn\n",
        "import torch.optim as optim\n",
        "from torchvision import datasets, transforms\n",
        "import matplotlib.pyplot as plt"
      ]
    },
    {
      "cell_type": "code",
      "source": [
        "# Load Dataset (Use MNIST Dataset)\n",
        "transform = transforms.Compose([transforms.ToTensor(), transforms.Normalize((0.5,), (0.5,))])\n",
        "train_dataset = datasets.MNIST(root='./data', train=True, transform=transform, download=True)\n",
        "test_dataset = datasets.MNIST(root='./data', train=False, transform=transform, download=True)\n",
        "\n",
        "train_loader = torch.utils.data.DataLoader(train_dataset, batch_size=64, shuffle=True)\n",
        "test_loader = torch.utils.data.DataLoader(test_dataset, batch_size=64, shuffle=False)"
      ],
      "metadata": {
        "colab": {
          "base_uri": "https://localhost:8080/"
        },
        "id": "oxJa5Yiv0s3e",
        "outputId": "96958450-61d7-410b-fc9b-a3d0d0bfc749"
      },
      "execution_count": null,
      "outputs": [
        {
          "output_type": "stream",
          "name": "stdout",
          "text": [
            "Downloading http://yann.lecun.com/exdb/mnist/train-images-idx3-ubyte.gz\n",
            "Failed to download (trying next):\n",
            "<urlopen error [Errno 111] Connection refused>\n",
            "\n",
            "Downloading https://ossci-datasets.s3.amazonaws.com/mnist/train-images-idx3-ubyte.gz\n",
            "Downloading https://ossci-datasets.s3.amazonaws.com/mnist/train-images-idx3-ubyte.gz to ./data/MNIST/raw/train-images-idx3-ubyte.gz\n"
          ]
        },
        {
          "output_type": "stream",
          "name": "stderr",
          "text": [
            "100%|██████████| 9.91M/9.91M [00:01<00:00, 5.10MB/s]\n"
          ]
        },
        {
          "output_type": "stream",
          "name": "stdout",
          "text": [
            "Extracting ./data/MNIST/raw/train-images-idx3-ubyte.gz to ./data/MNIST/raw\n",
            "\n",
            "Downloading http://yann.lecun.com/exdb/mnist/train-labels-idx1-ubyte.gz\n",
            "Failed to download (trying next):\n",
            "<urlopen error [Errno 111] Connection refused>\n",
            "\n",
            "Downloading https://ossci-datasets.s3.amazonaws.com/mnist/train-labels-idx1-ubyte.gz\n",
            "Downloading https://ossci-datasets.s3.amazonaws.com/mnist/train-labels-idx1-ubyte.gz to ./data/MNIST/raw/train-labels-idx1-ubyte.gz\n"
          ]
        },
        {
          "output_type": "stream",
          "name": "stderr",
          "text": [
            "100%|██████████| 28.9k/28.9k [00:00<00:00, 134kB/s]\n"
          ]
        },
        {
          "output_type": "stream",
          "name": "stdout",
          "text": [
            "Extracting ./data/MNIST/raw/train-labels-idx1-ubyte.gz to ./data/MNIST/raw\n",
            "\n",
            "Downloading http://yann.lecun.com/exdb/mnist/t10k-images-idx3-ubyte.gz\n",
            "Failed to download (trying next):\n",
            "<urlopen error [Errno 111] Connection refused>\n",
            "\n",
            "Downloading https://ossci-datasets.s3.amazonaws.com/mnist/t10k-images-idx3-ubyte.gz\n",
            "Downloading https://ossci-datasets.s3.amazonaws.com/mnist/t10k-images-idx3-ubyte.gz to ./data/MNIST/raw/t10k-images-idx3-ubyte.gz\n"
          ]
        },
        {
          "output_type": "stream",
          "name": "stderr",
          "text": [
            "100%|██████████| 1.65M/1.65M [00:01<00:00, 1.27MB/s]\n"
          ]
        },
        {
          "output_type": "stream",
          "name": "stdout",
          "text": [
            "Extracting ./data/MNIST/raw/t10k-images-idx3-ubyte.gz to ./data/MNIST/raw\n",
            "\n",
            "Downloading http://yann.lecun.com/exdb/mnist/t10k-labels-idx1-ubyte.gz\n",
            "Failed to download (trying next):\n",
            "<urlopen error [Errno 111] Connection refused>\n",
            "\n",
            "Downloading https://ossci-datasets.s3.amazonaws.com/mnist/t10k-labels-idx1-ubyte.gz\n",
            "Downloading https://ossci-datasets.s3.amazonaws.com/mnist/t10k-labels-idx1-ubyte.gz to ./data/MNIST/raw/t10k-labels-idx1-ubyte.gz\n"
          ]
        },
        {
          "output_type": "stream",
          "name": "stderr",
          "text": [
            "100%|██████████| 4.54k/4.54k [00:00<00:00, 4.60MB/s]"
          ]
        },
        {
          "output_type": "stream",
          "name": "stdout",
          "text": [
            "Extracting ./data/MNIST/raw/t10k-labels-idx1-ubyte.gz to ./data/MNIST/raw\n",
            "\n"
          ]
        },
        {
          "output_type": "stream",
          "name": "stderr",
          "text": [
            "\n"
          ]
        }
      ]
    },
    {
      "cell_type": "code",
      "source": [
        "# Define CNN\n",
        "class CNN(nn.Module):\n",
        "    def __init__(self):\n",
        "        super(CNN, self).__init__()\n",
        "        self.conv1 = nn.Conv2d(1, 32, kernel_size=3)  # channel 1 -> 32\n",
        "        self.conv2 = nn.Conv2d(32, 64, kernel_size=3)  # channel 32 -> 64\n",
        "        self.fc1 = nn.Linear(64 * 24 * 24, 128)\n",
        "        self.fc2 = nn.Linear(128, 10)  # output: class 10\n",
        "\n",
        "    def forward(self, x):\n",
        "        x = torch.relu(self.conv1(x))  # Conv1 + ReLU\n",
        "        x = torch.relu(self.conv2(x))  # Conv2 + ReLU\n",
        "        x = torch.flatten(x, 1)  # Flatten for fully connected layers\n",
        "        x = torch.relu(self.fc1(x))  # Fully Connected Layer 1\n",
        "        x = self.fc2(x)  # Fully Connected Layer 2\n",
        "        return x"
      ],
      "metadata": {
        "id": "78PS9aVJ0s6f"
      },
      "execution_count": null,
      "outputs": []
    },
    {
      "cell_type": "code",
      "source": [
        "# Initialization Model\n",
        "device = torch.device(\"cuda\" if torch.cuda.is_available() else \"cpu\")\n",
        "model = CNN().to(device)"
      ],
      "metadata": {
        "id": "t-Yne3wG0s9P"
      },
      "execution_count": null,
      "outputs": []
    },
    {
      "cell_type": "code",
      "source": [
        "print(device)"
      ],
      "metadata": {
        "colab": {
          "base_uri": "https://localhost:8080/"
        },
        "id": "2i8rVtrc7tDn",
        "outputId": "ab493495-5412-4fc4-ada4-32724e7af620"
      },
      "execution_count": null,
      "outputs": [
        {
          "output_type": "stream",
          "name": "stdout",
          "text": [
            "cuda\n"
          ]
        }
      ]
    },
    {
      "cell_type": "code",
      "source": [
        "print(model)"
      ],
      "metadata": {
        "colab": {
          "base_uri": "https://localhost:8080/"
        },
        "id": "ubnSlORqndY7",
        "outputId": "77b4af7c-e1e6-42cf-f234-5ce9bcd88011"
      },
      "execution_count": null,
      "outputs": [
        {
          "output_type": "stream",
          "name": "stdout",
          "text": [
            "CNN(\n",
            "  (conv1): Conv2d(1, 32, kernel_size=(3, 3), stride=(1, 1))\n",
            "  (conv2): Conv2d(32, 64, kernel_size=(3, 3), stride=(1, 1))\n",
            "  (fc1): Linear(in_features=36864, out_features=128, bias=True)\n",
            "  (fc2): Linear(in_features=128, out_features=10, bias=True)\n",
            ")\n"
          ]
        }
      ]
    },
    {
      "cell_type": "code",
      "source": [
        "# Define Loss function and Optimizer\n",
        "criterion = nn.CrossEntropyLoss()\n",
        "optimizer = optim.Adam(model.parameters(), lr=0.001)"
      ],
      "metadata": {
        "id": "a4mmpvc50tAX"
      },
      "execution_count": null,
      "outputs": []
    },
    {
      "cell_type": "code",
      "source": [
        "def test_model(model, test_loader):\n",
        "    model.eval()\n",
        "    correct = 0\n",
        "    total = 0\n",
        "    with torch.no_grad():\n",
        "        for images, labels in test_loader:\n",
        "            images, labels = images.to(device), labels.to(device)\n",
        "            outputs = model(images)\n",
        "            _, predicted = torch.max(outputs, 1)\n",
        "            correct += (predicted == labels).sum().item()\n",
        "            total += labels.size(0)\n",
        "\n",
        "    accuracy = 100 * correct / total\n",
        "    print(f\"Test Accuracy: {accuracy:.2f}%\")\n",
        "    return accuracy"
      ],
      "metadata": {
        "id": "NYpgQkGd9WDT"
      },
      "execution_count": null,
      "outputs": []
    },
    {
      "cell_type": "code",
      "source": [
        "# Define FGSM attack function\n",
        "def fgsm_attack(model, images, labels, epsilon):\n",
        "    \"\"\"\n",
        "    Generate Adversarial Example with FSGM Attack\n",
        "    \"\"\"\n",
        "    images.requires_grad = True  # Activation Gradient\n",
        "    outputs = model(images)\n",
        "    loss = criterion(outputs, labels)\n",
        "    model.zero_grad()\n",
        "    loss.backward()\n",
        "    data_grad = images.grad.data\n",
        "    perturbed_images = images + epsilon * data_grad.sign()  # Modification in the gradient direction\n",
        "    perturbed_images = torch.clamp(perturbed_images, 0, 1)  # [0, 1]\n",
        "    return perturbed_images\n"
      ],
      "metadata": {
        "id": "OU0Fcp6w0tFw"
      },
      "execution_count": null,
      "outputs": []
    },
    {
      "cell_type": "code",
      "source": [
        "# Define Adversarial Training Function\n",
        "def adversarial_train(model, train_loader, criterion, optimizer, epsilon, epochs=5):\n",
        "    \"\"\"\n",
        "    The model improves robustness by learning from both clean data and adversarial examples.\n",
        "    \"\"\"\n",
        "    model.train()\n",
        "    for epoch in range(epochs):\n",
        "        epoch_loss = 0.0\n",
        "        for images, labels in train_loader:\n",
        "            images, labels = images.to(device), labels.to(device)\n",
        "\n",
        "            # Step 1: Train Clean Data\n",
        "            optimizer.zero_grad()\n",
        "            outputs = model(images)\n",
        "            loss = criterion(outputs, labels)\n",
        "            loss.backward()\n",
        "            optimizer.step()\n",
        "\n",
        "            # Step 2: Generate Adversarial Examples and Train\n",
        "            perturbed_images = fgsm_attack(model, images, labels, epsilon)\n",
        "            optimizer.zero_grad()\n",
        "            outputs_adv = model(perturbed_images)\n",
        "            loss_adv = criterion(outputs_adv, labels)\n",
        "            loss_adv.backward()\n",
        "            optimizer.step()\n",
        "\n",
        "            epoch_loss += loss.item() + loss_adv.item()\n",
        "        print(f\"Epoch [{epoch+1}/{epochs}], Loss: {epoch_loss:.4f}\")"
      ],
      "metadata": {
        "id": "pwR5tFpF0tIz"
      },
      "execution_count": null,
      "outputs": []
    },
    {
      "cell_type": "code",
      "source": [
        "# Test FSGM Attack\n",
        "def test_attack(model, test_loader, epsilon=0.0):\n",
        "    \"\"\"\n",
        "    Test the FGSM attack and evaluate the model's accuracy.\n",
        "    \"\"\"\n",
        "    model.eval()\n",
        "    correct = 0\n",
        "    total = 0\n",
        "    for images, labels in test_loader:\n",
        "        images, labels = images.to(device), labels.to(device)\n",
        "\n",
        "        # Generate Adversarial Examples\n",
        "        if epsilon > 0:\n",
        "            images = fgsm_attack(model, images, labels, epsilon)\n",
        "\n",
        "        outputs = model(images)\n",
        "        _, predicted = torch.max(outputs, 1)\n",
        "        correct += (predicted == labels).sum().item()\n",
        "        total += labels.size(0)\n",
        "\n",
        "    accuracy = correct / total * 100\n",
        "    print(f\"Test Accuracy under epsilon={epsilon}: {accuracy:.2f}%\")\n",
        "    return accuracy\n"
      ],
      "metadata": {
        "id": "dYbHM-cr0tLn"
      },
      "execution_count": null,
      "outputs": []
    },
    {
      "cell_type": "code",
      "source": [
        "# Train Clean Data(basic)\n",
        "print(\"Training the model on normal data...\")\n",
        "for epoch in range(5):\n",
        "    model.train()\n",
        "    epoch_loss = 0.0\n",
        "    for images, labels in train_loader:\n",
        "        images, labels = images.to(device), labels.to(device)\n",
        "        optimizer.zero_grad()\n",
        "        outputs = model(images)\n",
        "        loss = criterion(outputs, labels)\n",
        "        loss.backward()\n",
        "        optimizer.step()\n",
        "        epoch_loss += loss.item()\n",
        "    print(f\"Epoch [{epoch+1}/5], Loss: {epoch_loss:.4f}\")"
      ],
      "metadata": {
        "colab": {
          "base_uri": "https://localhost:8080/"
        },
        "id": "kL9id0F40tOa",
        "outputId": "1fcff88e-d9c1-4190-bf17-b471f115fda0"
      },
      "execution_count": null,
      "outputs": [
        {
          "output_type": "stream",
          "name": "stdout",
          "text": [
            "Training the model on normal data...\n",
            "Epoch [1/5], Loss: 122.0105\n",
            "Epoch [2/5], Loss: 31.9108\n",
            "Epoch [3/5], Loss: 17.2397\n",
            "Epoch [4/5], Loss: 12.1556\n",
            "Epoch [5/5], Loss: 9.4464\n"
          ]
        }
      ]
    },
    {
      "cell_type": "code",
      "source": [
        "# Perform FGSM attack (before applying defense)\n",
        "print(\"\\nTesting the model under FGSM attack (no defense)...\")\n",
        "before = []\n",
        "for ep in [0.0, 0.1, 0.2, 0.3, 0.4, 0.5, 0.6, 0.7, 0.8]:\n",
        "    before.append(test_attack(model, test_loader, epsilon=ep))"
      ],
      "metadata": {
        "colab": {
          "base_uri": "https://localhost:8080/"
        },
        "id": "K1LCmEea0tRF",
        "outputId": "f4116b56-7170-4286-961f-9f3c55c007ff"
      },
      "execution_count": null,
      "outputs": [
        {
          "output_type": "stream",
          "name": "stdout",
          "text": [
            "\n",
            "Testing the model under FGSM attack (no defense)...\n",
            "Test Accuracy under epsilon=0.0: 98.84%\n",
            "Test Accuracy under epsilon=0.1: 91.68%\n",
            "Test Accuracy under epsilon=0.2: 82.20%\n",
            "Test Accuracy under epsilon=0.3: 67.90%\n",
            "Test Accuracy under epsilon=0.4: 50.99%\n",
            "Test Accuracy under epsilon=0.5: 38.09%\n",
            "Test Accuracy under epsilon=0.6: 29.46%\n",
            "Test Accuracy under epsilon=0.7: 24.82%\n",
            "Test Accuracy under epsilon=0.8: 22.62%\n"
          ]
        }
      ]
    },
    {
      "cell_type": "code",
      "source": [
        "# CNN model VS After FGSM Attack model (epsilon = 0.1~0.3)\n",
        "print(\"\\nEvaluating the model on test data...\")\n",
        "test_accuracy = test_model(model, test_loader) # CNN\n",
        "print(test_accuracy)\n",
        "print(before[1:4])"
      ],
      "metadata": {
        "colab": {
          "base_uri": "https://localhost:8080/"
        },
        "id": "rw1jtnzf-FOI",
        "outputId": "ed3fe692-2d9a-45b6-e4df-b8b529a01005"
      },
      "execution_count": null,
      "outputs": [
        {
          "output_type": "stream",
          "name": "stdout",
          "text": [
            "\n",
            "Evaluating the model on test data...\n",
            "Test Accuracy: 98.88%\n",
            "98.88\n",
            "[91.67999999999999, 82.19999999999999, 67.9]\n"
          ]
        }
      ]
    },
    {
      "cell_type": "code",
      "source": [
        "# Perform Adversarial Training\n",
        "print(\"\\nApplying Adversarial Training...\")\n",
        "adversarial_train(model, train_loader, criterion, optimizer, epsilon=0.1, epochs=5)"
      ],
      "metadata": {
        "colab": {
          "base_uri": "https://localhost:8080/"
        },
        "id": "jcmKYWSw0tVO",
        "outputId": "e1bda835-c480-4a32-98a9-2d3746387730"
      },
      "execution_count": null,
      "outputs": [
        {
          "output_type": "stream",
          "name": "stdout",
          "text": [
            "\n",
            "Applying Adversarial Training...\n",
            "Epoch [1/5], Loss: 64.9968\n",
            "Epoch [2/5], Loss: 24.8903\n",
            "Epoch [3/5], Loss: 17.2154\n",
            "Epoch [4/5], Loss: 14.5013\n",
            "Epoch [5/5], Loss: 8.9595\n"
          ]
        }
      ]
    },
    {
      "cell_type": "code",
      "source": [
        "# Perform FGSM Attack (after applying defense)\n",
        "print(\"\\nTesting the model under FGSM attack (with Adversarial Training)...\")\n",
        "after = []\n",
        "for ep in [0.0, 0.1, 0.2, 0.3, 0.4, 0.5, 0.6, 0.7, 0.8]:\n",
        "    after.append(test_attack(model, test_loader, epsilon=ep))"
      ],
      "metadata": {
        "colab": {
          "base_uri": "https://localhost:8080/"
        },
        "id": "DPlLjhTl0tZ7",
        "outputId": "3c81c770-aae6-4aae-89ba-7bb55fa1bf1c"
      },
      "execution_count": null,
      "outputs": [
        {
          "output_type": "stream",
          "name": "stdout",
          "text": [
            "\n",
            "Testing the model under FGSM attack (with Adversarial Training)...\n",
            "Test Accuracy under epsilon=0.0: 98.88%\n",
            "Test Accuracy under epsilon=0.1: 97.90%\n",
            "Test Accuracy under epsilon=0.2: 96.33%\n",
            "Test Accuracy under epsilon=0.3: 93.75%\n",
            "Test Accuracy under epsilon=0.4: 90.52%\n",
            "Test Accuracy under epsilon=0.5: 85.53%\n",
            "Test Accuracy under epsilon=0.6: 78.34%\n",
            "Test Accuracy under epsilon=0.7: 69.27%\n",
            "Test Accuracy under epsilon=0.8: 60.31%\n"
          ]
        }
      ]
    },
    {
      "cell_type": "code",
      "source": [
        "import matplotlib.pyplot as plt\n",
        "\n",
        "# Epsilon\n",
        "epsilon_values = [0.0, 0.1, 0.2, 0.3, 0.4, 0.5, 0.6, 0.7, 0.8]\n",
        "\n",
        "plt.plot(epsilon_values, after, 'r-', label='After Adversarial Learning')\n",
        "plt.plot(epsilon_values, before, 'b-', label='Before Adversarial Learning')\n",
        "\n",
        "plt.xlabel('Epsilon')\n",
        "plt.ylabel('Accuracy')\n",
        "plt.title('Effect of Adversarial Training on Model Performance under FGSM Attack')\n",
        "\n",
        "plt.legend()\n",
        "\n",
        "plt.grid(True)\n",
        "plt.show()"
      ],
      "metadata": {
        "colab": {
          "base_uri": "https://localhost:8080/",
          "height": 472
        },
        "id": "kX-p_zgM0t2_",
        "outputId": "43a62a9d-ee46-4314-885e-0cc745359c7d"
      },
      "execution_count": null,
      "outputs": [
        {
          "output_type": "display_data",
          "data": {
            "text/plain": [
              "<Figure size 640x480 with 1 Axes>"
            ],
            "image/png": "[encoded data removed]"
          },
          "metadata": {}
        }
      ]
    },
    {
      "cell_type": "code",
      "source": [
        "print(before)\n",
        "print(after)"
      ],
      "metadata": {
        "colab": {
          "base_uri": "https://localhost:8080/"
        },
        "id": "5m8aoPqc0t6G",
        "outputId": "8b3e99da-1592-40aa-c115-1e69cbadc8e5"
      },
      "execution_count": null,
      "outputs": [
        {
          "output_type": "stream",
          "name": "stdout",
          "text": [
            "[98.83999999999999, 91.67999999999999, 82.19999999999999, 67.9, 50.99, 38.09, 29.459999999999997, 24.82, 22.62]\n",
            "[98.88, 97.89999999999999, 96.33, 93.75, 90.52, 85.53, 78.34, 69.27, 60.309999999999995]\n"
          ]
        }
      ]
    }
  ]
}